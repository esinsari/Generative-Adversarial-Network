{
  "nbformat": 4,
  "nbformat_minor": 0,
  "metadata": {
    "accelerator": "GPU",
    "colab": {
      "name": "homework_05 (1).ipynb",
      "provenance": [],
      "collapsed_sections": []
    },
    "coursera": {
      "course_slug": "neural-networks-deep-learning",
      "graded_item_id": "XaIWT",
      "launcher_item_id": "zAgPl"
    },
    "kernelspec": {
      "display_name": "Python 3",
      "language": "python",
      "name": "python3"
    },
    "language_info": {
      "codemirror_mode": {
        "name": "ipython",
        "version": 3
      },
      "file_extension": ".py",
      "mimetype": "text/x-python",
      "name": "python",
      "nbconvert_exporter": "python",
      "pygments_lexer": "ipython3",
      "version": "3.8.3"
    }
  },
  "cells": [
    {
      "cell_type": "markdown",
      "metadata": {
        "id": "1LwvvMtG18SK"
      },
      "source": [
        "# Generative Adversarial Network\n",
        "\n",
        "**Task Overview:**\n",
        "- Implement the GAN task with Keras and TensorFlow\n",
        "\n",
        "**Runtime Type: GPU**"
      ]
    },
    {
      "cell_type": "markdown",
      "metadata": {
        "id": "l24oSrIK18SL"
      },
      "source": [
        "## 1 - Implement Generative Adversarial Network with Keras##\n",
        "### 1.1 Prepare the data\n",
        "\n",
        "\n",
        "**Tasks:**\n",
        "1. Load the MNIST dataset and **print out the shape** of it\n",
        "2. **Normalize the data** therefore every pixel value should be between 0 and 1\n",
        "3. **Define a load_real_batch function** which generates a random batch of real images and labels for the training. \n",
        "\n",
        "\n"
      ]
    },
    {
      "cell_type": "code",
      "metadata": {
        "colab": {
          "base_uri": "https://localhost:8080/"
        },
        "id": "LuGKTWz_p3V0",
        "outputId": "a31437a6-1f67-40a3-8be5-31d1000968ff"
      },
      "source": [
        "# 1. loading the mnist dataset and normalize it\n",
        "from numpy import expand_dims\n",
        "from numpy import zeros\n",
        "from numpy import ones\n",
        "from numpy import vstack\n",
        "from numpy.random import randn\n",
        "from numpy.random import randint\n",
        "from keras.datasets.mnist import load_data\n",
        "from keras.optimizers import Adam\n",
        "from keras.models import Sequential\n",
        "from keras.layers import Dense\n",
        "from keras.layers import Reshape\n",
        "from keras.layers import Flatten\n",
        "from keras.layers import Conv2D\n",
        "from keras.layers import Conv2DTranspose\n",
        "from keras.layers import LeakyReLU\n",
        "from keras.layers import Dropout\n",
        "from matplotlib import pyplot\n",
        "from keras.models import load_model\n",
        "from numpy.random import randn\n",
        "from matplotlib import pyplot\n",
        "import matplotlib.pyplot as plt\n",
        "\n",
        "\n",
        "### Set random seed to ensure deterministic results\n",
        "import tensorflow as tf\n",
        "import tensorflow.keras as keras\n",
        "import tensorflow.keras.layers \n",
        "import random\n",
        "import numpy as np\n",
        "import os\n",
        "seed_value = 1\n",
        "os.environ['PYTHONHASHSEED']=str(seed_value)\n",
        "def reset_random_seeds():\n",
        "   tf.random.set_seed(seed_value)\n",
        "   np.random.seed(seed_value)\n",
        "   random.seed(seed_value)\n",
        "reset_random_seeds()\n",
        "\n",
        "#### 1.Load MNIST data; \n",
        "#### 2. Reshape them by expanding to 3d; \n",
        "#### 3. Define the type to float32\n",
        "#### 4. Scale them to [0,1]; \n",
        "\n",
        "from keras.datasets.mnist import load_data\n",
        "### load the images into memory\n",
        "\n",
        "(trainX, trainy), (testX, testy) = load_data() \n",
        "\n",
        "def load_real_samples():\n",
        "\t### load mnist dataset\n",
        "  (trainX,train), (test, test) = load_data() # only load trainX for real samples and other parameters are set to dummy variable\n",
        "\t### expand trainX to 3d, e.g. add channels dimension\n",
        "  trainX = expand_dims(trainX, axis=-1) \n",
        "\t### convert X from unsigned ints to float32\n",
        "  trainX = trainX.astype(\"float32\")\n",
        "\t### scale X from [0,255] to [0,1]\n",
        "  trainX = trainX / 255\n",
        "  return trainX\n",
        "\n",
        "\n",
        "dataset = load_real_samples() # load real samples\n",
        "print('dataset', dataset.shape) # print out the shape of dataset"
      ],
      "execution_count": null,
      "outputs": [
        {
          "output_type": "stream",
          "text": [
            "dataset (60000, 28, 28, 1)\n"
          ],
          "name": "stdout"
        }
      ]
    },
    {
      "cell_type": "code",
      "metadata": {
        "colab": {
          "base_uri": "https://localhost:8080/"
        },
        "id": "vrl7TdmVlnoX",
        "outputId": "297ffc77-108e-4706-aca0-17b43e1651db"
      },
      "source": [
        "### 2. define load_real_batch()\n",
        "\n",
        "def generate_real_samples(dataset, n_samples):\n",
        "  ix = randint(0, dataset.shape[0], n_samples)\t# choose random instances with randit(start=0, end=num of data, sample=n_samples)\n",
        "  X = dataset[ix] # retrieve selected images from indices of ix\n",
        "  y = ones((n_samples, 1)) # generate 'real' class labels (1), i.e., real image is labeled by 1. \n",
        "  return X, y\n",
        "\n",
        "sampleX,sampleY = generate_real_samples(dataset, 10) ### test the function with defined MNIST data and 10 samples\n",
        "print(sampleX.shape) ### print shape X\n",
        "print(sampleY.shape) ### print shape Y"
      ],
      "execution_count": null,
      "outputs": [
        {
          "output_type": "stream",
          "text": [
            "(10, 28, 28, 1)\n",
            "(10, 1)\n"
          ],
          "name": "stdout"
        }
      ]
    },
    {
      "cell_type": "markdown",
      "metadata": {
        "id": "0AlakqA_vuFb"
      },
      "source": [
        "### 1.2 - Build the Generative Adversarial Network (GAN) Model ##\n",
        "\n",
        "\n",
        "Build the Generative Adversarial Network (GAN) with generator and discriminator. \n",
        "\n",
        "**The input shape of the generator should be: 100**"
      ]
    },
    {
      "cell_type": "code",
      "metadata": {
        "id": "7MpPGHXHJ0TW"
      },
      "source": [
        "### define the generator model ###\n",
        "\n",
        "def define_generator(latent_dim):\n",
        "  model = Sequential()\n",
        "### foundation for 7x7 image\n",
        "  n_nodes = 128 * 7 * 7 # num of nodes is 128 * 7 * 7\n",
        "  model.add(Dense(n_nodes, input_dim=latent_dim)) \n",
        "  model.add(LeakyReLU(alpha=0.2)) \n",
        "  model.add(Reshape((7, 7, 128)))  \n",
        "### upsample to 14x14\n",
        "  model.add(Conv2DTranspose(128, (4,4), strides=(2,2), padding='same'))\n",
        "  model.add(LeakyReLU(alpha=0.2))\n",
        "### upsample to 28x28\n",
        "  model.add(Conv2DTranspose(128, (4,4), strides=(2,2), padding='same')) \n",
        "  model.add(LeakyReLU(alpha=0.2))\n",
        "  model.add(Conv2D(1, (7,7), activation='sigmoid', padding='same')) \n",
        "  return model"
      ],
      "execution_count": null,
      "outputs": []
    },
    {
      "cell_type": "code",
      "metadata": {
        "id": "9kUGc8dLKC9A"
      },
      "source": [
        "### define the discriminator model ###\n",
        "\n",
        "def define_discriminator(in_shape=(28,28,1)):\n",
        "  model = Sequential()\n",
        "  model.add(Conv2D(64, (3,3), strides=(2, 2), padding='same', input_shape=in_shape))\n",
        "  model.add(LeakyReLU(alpha=0.2)) \n",
        "  model.add(Dropout(0.4))\n",
        "  model.add(Conv2D(64, (3,3), strides=(2, 2), padding='same'))\n",
        "  model.add(LeakyReLU(alpha=0.2)) \n",
        "  model.add(Dropout(0.4)) \n",
        "  model.add(Flatten())\n",
        "  model.add(Dense(1, activation='sigmoid')) \n",
        "### compile model ###\n",
        "  opt = Adam(lr=0.0002, beta_1=0.5) \n",
        "  model.compile(loss='binary_crossentropy', optimizer=opt, metrics=['accuracy'])"
      ],
      "execution_count": null,
      "outputs": []
    },
    {
      "cell_type": "markdown",
      "metadata": {
        "id": "kttN2CGfM43D"
      },
      "source": [
        "### 1.3 Compile and train the GAN model\n",
        "\n",
        "Compile and train the GAN Model. \n",
        "\n",
        "**Tasks:**\n",
        "1. Compile the GAN Model with **binary_crossentropy** and **Adam optimizer** of **learning rate = 0.0002** and **beta_1 = 0.5**. \n",
        "2. Generate fake input batch for the generator.\n",
        "3. Train the GAN Model."
      ]
    },
    {
      "cell_type": "code",
      "metadata": {
        "colab": {
          "base_uri": "https://localhost:8080/"
        },
        "id": "xCtPtJr8Ke12",
        "outputId": "bb09d44d-c753-4d58-fbe7-0144b08cc6f5"
      },
      "source": [
        "### define the combined generator and discriminator model, for updating the generator ###\n",
        "\n",
        "def define_gan(g_model, d_model):\n",
        " \t### make weights in the discriminator not trainable\n",
        "  d_model.trainable = False\n",
        "\t### connect them\n",
        "  model = Sequential()\n",
        " \t### add generator\n",
        "  model.add(g_model) \n",
        " \t### add the discriminator\n",
        "  model.add(d_model) \n",
        " \t### compile model\n",
        "  opt = Adam(lr=0.0002, beta_1=0.5) 5\n",
        "  model.compile(loss='binary_crossentropy', optimizer=opt) \n",
        "  return model\n",
        "\n",
        "\n",
        "latent_dim = 100\n",
        "\n",
        "keras.backend.clear_session() # Clear cached model\n",
        "### create the discriminator ###\n",
        "d_model = define_discriminator()\n",
        "### create the generator ###\n",
        "g_model = define_generator(latent_dim)\n",
        "### create the gan ###\n",
        "gan_model = define_gan(g_model, d_model) # the first should be generator, and the second is discriminator\n",
        "print(d_model.summary())\n",
        "print(g_model.summary())\n",
        "print(gan_model.summary())"
      ],
      "execution_count": null,
      "outputs": [
        {
          "output_type": "stream",
          "text": [
            "Model: \"sequential\"\n",
            "_________________________________________________________________\n",
            "Layer (type)                 Output Shape              Param #   \n",
            "=================================================================\n",
            "conv2d (Conv2D)              (None, 14, 14, 64)        640       \n",
            "_________________________________________________________________\n",
            "leaky_re_lu (LeakyReLU)      (None, 14, 14, 64)        0         \n",
            "_________________________________________________________________\n",
            "dropout (Dropout)            (None, 14, 14, 64)        0         \n",
            "_________________________________________________________________\n",
            "conv2d_1 (Conv2D)            (None, 7, 7, 64)          36928     \n",
            "_________________________________________________________________\n",
            "leaky_re_lu_1 (LeakyReLU)    (None, 7, 7, 64)          0         \n",
            "_________________________________________________________________\n",
            "dropout_1 (Dropout)          (None, 7, 7, 64)          0         \n",
            "_________________________________________________________________\n",
            "flatten (Flatten)            (None, 3136)              0         \n",
            "_________________________________________________________________\n",
            "dense (Dense)                (None, 1)                 3137      \n",
            "=================================================================\n",
            "Total params: 40,705\n",
            "Trainable params: 0\n",
            "Non-trainable params: 40,705\n",
            "_________________________________________________________________\n",
            "None\n",
            "Model: \"sequential_1\"\n",
            "_________________________________________________________________\n",
            "Layer (type)                 Output Shape              Param #   \n",
            "=================================================================\n",
            "dense_1 (Dense)              (None, 6272)              633472    \n",
            "_________________________________________________________________\n",
            "leaky_re_lu_2 (LeakyReLU)    (None, 6272)              0         \n",
            "_________________________________________________________________\n",
            "reshape (Reshape)            (None, 7, 7, 128)         0         \n",
            "_________________________________________________________________\n",
            "conv2d_transpose (Conv2DTran (None, 14, 14, 128)       262272    \n",
            "_________________________________________________________________\n",
            "leaky_re_lu_3 (LeakyReLU)    (None, 14, 14, 128)       0         \n",
            "_________________________________________________________________\n",
            "conv2d_transpose_1 (Conv2DTr (None, 28, 28, 128)       262272    \n",
            "_________________________________________________________________\n",
            "leaky_re_lu_4 (LeakyReLU)    (None, 28, 28, 128)       0         \n",
            "_________________________________________________________________\n",
            "conv2d_2 (Conv2D)            (None, 28, 28, 1)         6273      \n",
            "=================================================================\n",
            "Total params: 1,164,289\n",
            "Trainable params: 1,164,289\n",
            "Non-trainable params: 0\n",
            "_________________________________________________________________\n",
            "None\n",
            "Model: \"sequential_2\"\n",
            "_________________________________________________________________\n",
            "Layer (type)                 Output Shape              Param #   \n",
            "=================================================================\n",
            "sequential_1 (Sequential)    (None, 28, 28, 1)         1164289   \n",
            "_________________________________________________________________\n",
            "sequential (Sequential)      (None, 1)                 40705     \n",
            "=================================================================\n",
            "Total params: 1,204,994\n",
            "Trainable params: 1,164,289\n",
            "Non-trainable params: 40,705\n",
            "_________________________________________________________________\n",
            "None\n"
          ],
          "name": "stdout"
        }
      ]
    },
    {
      "cell_type": "code",
      "metadata": {
        "id": "pCiTU3eulsoG"
      },
      "source": [
        "### 3. define load_fake_batch() ###\n",
        "\n",
        "def generate_latent_points(latent_dim, n_samples):\n",
        " \t### generate points in the latent space\n",
        "  x_input = randn(latent_dim * n_samples) \n",
        " \t### reshape into a batch of inputs for the network\n",
        "  x_input = x_input.reshape(n_samples, latent_dim)\n",
        "  return x_input\n",
        "\n",
        "# use the generator to generate n fake examples, with class labels\n",
        "def generate_fake_samples(g_model, latent_dim, n_samples):\n",
        " \t### generate points in latent space\n",
        "  x_input = generate_latent_points(latent_dim, n_samples) \n",
        " \t### predict outputs\n",
        "  X = g_model.predict(x_input)\n",
        "  ### create 'fake' class labels (0)\n",
        "  y = zeros((n_samples, 1))\n",
        "  return X, y\n"
      ],
      "execution_count": null,
      "outputs": []
    },
    {
      "cell_type": "code",
      "metadata": {
        "colab": {
          "base_uri": "https://localhost:8080/"
        },
        "id": "qILiVn-BM8Yy",
        "outputId": "d5d6f18c-00ed-42e6-c180-93a6074cf24e"
      },
      "source": [
        "### train the generator and discriminator ###\n",
        "\n",
        "def train(g_model, d_model, gan_model, dataset, latent_dim, n_epochs=5, n_batch=256):\n",
        "  bat_per_epo = int(dataset.shape[0] / n_batch)\n",
        "  half_batch = int(n_batch / 2) # divide the batch into halves to mix real and fake examples\n",
        "  # manually enumerate epochs\n",
        "  for i in range(n_epochs):\n",
        " \t\t# enumerate batches over the training set\n",
        "    for j in range(bat_per_epo):\n",
        " \t\t\t# get randomly selected 'real' samples to form one half \n",
        "      X_real, y_real = generate_real_samples(dataset, half_batch)\n",
        "      # generate 'fake' examples to form the other half\n",
        "      X_fake, y_fake = generate_fake_samples(g_model, latent_dim, half_batch)\n",
        "      # create training set for the discriminator with two halves\n",
        "      X, y = vstack((X_real, X_fake)), vstack((y_real, y_fake))\n",
        "      # update discriminator model weights\n",
        "      d_loss, _ = d_model.train_on_batch(X, y)\n",
        "      # prepare points in latent space as input for the generator\n",
        "      X_gan = generate_latent_points(latent_dim, n_batch) \n",
        "      # create inverted labels for the fake samples\n",
        "      y_gan = ones((n_batch, 1))  \n",
        "      # update the generator via the discriminator's error\n",
        "      g_loss = gan_model.train_on_batch(X_gan, y_gan) \n",
        "      # summarize loss on this batch\n",
        "      print('epoch: %d, iter: %d/%d, discriminator loss: %.3f, generator loss: %.3f' % (i+1, j+1, bat_per_epo, d_loss, g_loss))\n",
        "\n",
        "# load image data\n",
        "dataset = load_real_samples()\n",
        "# train model\n",
        "train(g_model, d_model, gan_model, dataset, latent_dim, n_epochs=5, n_batch=256)"
      ],
      "execution_count": null,
      "outputs": [
        {
          "output_type": "stream",
          "text": [
            "epoch: 1, iter: 1/234, discriminator loss: 0.702, generator loss: 0.691\n",
            "epoch: 1, iter: 2/234, discriminator loss: 0.696, generator loss: 0.710\n",
            "...\n",
            "epoch: 5, iter: 232/234, discriminator loss: 0.685, generator loss: 0.687\n",
            "epoch: 5, iter: 233/234, discriminator loss: 0.692, generator loss: 0.690\n",
            "epoch: 5, iter: 234/234, discriminator loss: 0.690, generator loss: 0.708\n"
          ],
          "name": "stdout"
        }
      ]
    },
    {
      "cell_type": "markdown",
      "metadata": {
        "id": "Dd2jZl4n0H8m"
      },
      "source": [
        "### 1.4 GAN model evaluation\n",
        "\n",
        "Assess the quality of the trained GAN model. \n",
        "\n",
        "**Tasks:**\n",
        "1. Evaluate the trained discriminator with real images and print out the accuracy on the MNIST data(60000 samples). \n",
        "2. Evaluate the trained discriminator with 100 fake samples and print out the accuracy (100 samples).\n",
        "3. Plot the 5 * 5 = 25 outputs of the trained generator - 5 epochs. "
      ]
    },
    {
      "cell_type": "code",
      "metadata": {
        "colab": {
          "base_uri": "https://localhost:8080/"
        },
        "id": "20MvvaRPNigp",
        "outputId": "d68cfe79-bdff-4e1b-afc2-d26d728286b3"
      },
      "source": [
        "### evaluate the discriminator, plot generated images, save generator model ###\n",
        "\n",
        "def summarize_performance( g_model, d_model, dataset, latent_dim, n_samples=100):\n",
        "  ### prepare real samples\n",
        "  X_real, y_real = generate_real_samples(dataset, 60000) \n",
        "  ### evaluate discriminator on real examples\n",
        "  _, acc_real = d_model.evaluate(X_real, y_real, verbose=0) \n",
        "  ### prepare fake examples\n",
        "  x_fake, y_fake = generate_fake_samples(g_model, latent_dim, n_samples) \n",
        "  ### evaluate discriminator on fake examples\n",
        "  _, acc_fake = d_model.evaluate(x_fake, y_fake, verbose=0) \n",
        "  ### summarize discriminator performance\n",
        "  print('Accuracy of real samples: %.0f%%, Accuracy of fake samples: %.0f%%' % (acc_real*100, acc_fake*100))\n",
        "\n",
        "### set random seed for test data ###\n",
        "import os\n",
        "seed_value = 1\n",
        "os.environ['PYTHONHASHSEED']=str(seed_value)\n",
        "def reset_random_seeds():\n",
        "   tf.random.set_seed(seed_value)\n",
        "   np.random.seed(seed_value)\n",
        "   random.seed(seed_value)\n",
        "reset_random_seeds()\n",
        "\n",
        "\n",
        "summarize_performance(g_model, d_model, dataset, latent_dim)"
      ],
      "execution_count": null,
      "outputs": [
        {
          "output_type": "stream",
          "text": [
            "Accuracy of real samples: 64%, Accuracy of fake samples: 51%\n"
          ],
          "name": "stdout"
        }
      ]
    },
    {
      "cell_type": "code",
      "metadata": {
        "colab": {
          "base_uri": "https://localhost:8080/",
          "height": 1000
        },
        "id": "8OU6NJEAUdYm",
        "outputId": "401912a2-7164-4c1d-a437-cbd6846fc904"
      },
      "source": [
        "# ### generate points in latent space as input for the generator\n",
        "\n",
        "latent_points = generate_latent_points(100, 25) \n",
        "### generate images\n",
        "X = g_model.predict(latent_points)\n",
        "### create and save a plot of generated images (reversed grayscale)\n",
        "def save_plot(examples, n):\n",
        "  ### plot images\n",
        "  for i in range(n * n):\n",
        "    ### define subplot\n",
        "    pyplot.subplot(n, n, 1 + i)\n",
        "    ### turn off axis\n",
        "    pyplot.axis('off')\n",
        "    ### plot raw pixel data\n",
        "    pyplot.imshow(examples[i, :, :, 0], cmap='gray_r')\n",
        "    pyplot.show()\n",
        " \n",
        "save_plot(X, 5)"
      ],
      "execution_count": null,
      "outputs": [
        {
          "output_type": "display_data",
          "data": {
            "image/png": "[encoded data removed]",
            "text/plain": [
              "<Figure size 432x288 with 1 Axes>"
            ]
          },
          "metadata": {
            "tags": [],
            "needs_background": "light"
          }
        },
        {
          "output_type": "display_data",
          "data": {
            "image/png": "[encoded data removed]",
            "text/plain": [
              "<Figure size 432x288 with 1 Axes>"
            ]
          },
          "metadata": {
            "tags": [],
            "needs_background": "light"
          }
        },
        {
          "output_type": "display_data",
          "data": {
            "image/png": "[encoded data removed]",
            "text/plain": [
              "<Figure size 432x288 with 1 Axes>"
            ]
          },
          "metadata": {
            "tags": [],
            "needs_background": "light"
          }
        },
        {
          "output_type": "display_data",
          "data": {
            "image/png": "[encoded data removed]",
            "text/plain": [
              "<Figure size 432x288 with 1 Axes>"
            ]
          },
          "metadata": {
            "tags": [],
            "needs_background": "light"
          }
        },
        {
          "output_type": "display_data",
          "data": {
            "image/png": "[encoded data removed]",
            "text/plain": [
              "<Figure size 432x288 with 1 Axes>"
            ]
          },
          "metadata": {
            "tags": [],
            "needs_background": "light"
          }
        },
        {
          "output_type": "display_data",
          "data": {
            "image/png": "[encoded data removed]",
            "text/plain": [
              "<Figure size 432x288 with 1 Axes>"
            ]
          },
          "metadata": {
            "tags": [],
            "needs_background": "light"
          }
        },
        {
          "output_type": "display_data",
          "data": {
            "image/png": "[encoded data removed]",
            "text/plain": [
              "<Figure size 432x288 with 1 Axes>"
            ]
          },
          "metadata": {
            "tags": [],
            "needs_background": "light"
          }
        },
        {
          "output_type": "display_data",
          "data": {
            "image/png": "[encoded data removed]",
            "text/plain": [
              "<Figure size 432x288 with 1 Axes>"
            ]
          },
          "metadata": {
            "tags": [],
            "needs_background": "light"
          }
        },
        {
          "output_type": "display_data",
          "data": {
            "image/png": "[encoded data removed]",
            "text/plain": [
              "<Figure size 432x288 with 1 Axes>"
            ]
          },
          "metadata": {
            "tags": [],
            "needs_background": "light"
          }
        },
        {
          "output_type": "display_data",
          "data": {
            "image/png": "[encoded data removed]",
            "text/plain": [
              "<Figure size 432x288 with 1 Axes>"
            ]
          },
          "metadata": {
            "tags": [],
            "needs_background": "light"
          }
        },
        {
          "output_type": "display_data",
          "data": {
            "image/png": "[encoded data removed]",
            "text/plain": [
              "<Figure size 432x288 with 1 Axes>"
            ]
          },
          "metadata": {
            "tags": [],
            "needs_background": "light"
          }
        },
        {
          "output_type": "display_data",
          "data": {
            "image/png": "[encoded data removed]",
            "text/plain": [
              "<Figure size 432x288 with 1 Axes>"
            ]
          },
          "metadata": {
            "tags": [],
            "needs_background": "light"
          }
        },
        {
          "output_type": "display_data",
          "data": {
            "image/png": "[encoded data removed]",
            "text/plain": [
              "<Figure size 432x288 with 1 Axes>"
            ]
          },
          "metadata": {
            "tags": [],
            "needs_background": "light"
          }
        },
        {
          "output_type": "display_data",
          "data": {
            "image/png": "[encoded data removed]",
            "text/plain": [
              "<Figure size 432x288 with 1 Axes>"
            ]
          },
          "metadata": {
            "tags": [],
            "needs_background": "light"
          }
        },
        {
          "output_type": "display_data",
          "data": {
            "image/png": "[encoded data removed]",
            "text/plain": [
              "<Figure size 432x288 with 1 Axes>"
            ]
          },
          "metadata": {
            "tags": [],
            "needs_background": "light"
          }
        },
        {
          "output_type": "display_data",
          "data": {
            "image/png": "[encoded data removed]",
            "text/plain": [
              "<Figure size 432x288 with 1 Axes>"
            ]
          },
          "metadata": {
            "tags": [],
            "needs_background": "light"
          }
        },
        {
          "output_type": "display_data",
          "data": {
            "image/png": "[encoded data removed]",
            "text/plain": [
              "<Figure size 432x288 with 1 Axes>"
            ]
          },
          "metadata": {
            "tags": [],
            "needs_background": "light"
          }
        },
        {
          "output_type": "display_data",
          "data": {
            "image/png": "[encoded data removed]",
            "text/plain": [
              "<Figure size 432x288 with 1 Axes>"
            ]
          },
          "metadata": {
            "tags": [],
            "needs_background": "light"
          }
        },
        {
          "output_type": "display_data",
          "data": {
            "image/png": "[encoded data removed]",
            "text/plain": [
              "<Figure size 432x288 with 1 Axes>"
            ]
          },
          "metadata": {
            "tags": [],
            "needs_background": "light"
          }
        },
        {
          "output_type": "display_data",
          "data": {
            "image/png": "[encoded data removed]",
            "text/plain": [
              "<Figure size 432x288 with 1 Axes>"
            ]
          },
          "metadata": {
            "tags": [],
            "needs_background": "light"
          }
        },
        {
          "output_type": "display_data",
          "data": {
            "image/png": "[encoded data removed]",
            "text/plain": [
              "<Figure size 432x288 with 1 Axes>"
            ]
          },
          "metadata": {
            "tags": [],
            "needs_background": "light"
          }
        },
        {
          "output_type": "display_data",
          "data": {
            "image/png": "[encoded data removed]",
            "text/plain": [
              "<Figure size 432x288 with 1 Axes>"
            ]
          },
          "metadata": {
            "tags": [],
            "needs_background": "light"
          }
        },
        {
          "output_type": "display_data",
          "data": {
            "image/png": "[encoded data removed]",
            "text/plain": [
              "<Figure size 432x288 with 1 Axes>"
            ]
          },
          "metadata": {
            "tags": [],
            "needs_background": "light"
          }
        },
        {
          "output_type": "display_data",
          "data": {
            "image/png": "[encoded data removed]",
            "text/plain": [
              "<Figure size 432x288 with 1 Axes>"
            ]
          },
          "metadata": {
            "tags": [],
            "needs_background": "light"
          }
        },
        {
          "output_type": "display_data",
          "data": {
            "image/png": "[encoded data removed]",
            "text/plain": [
              "<Figure size 432x288 with 1 Axes>"
            ]
          },
          "metadata": {
            "tags": [],
            "needs_background": "light"
          }
        }
      ]
    },
    {
      "cell_type": "markdown",
      "metadata": {
        "id": "0vqvy2tdEw7J"
      },
      "source": [
        "### 1.5 - Plot the generated samples ##\n",
        "\n",
        "**Tasks:**\n",
        "1. Train the GAN model for more epochs, i.e.,**10 epochs** and check the performance on the model. \n",
        "2. Plot the 5 * 5 = 25 outputs of the trained generator - 10 epochs. *"
      ]
    },
    {
      "cell_type": "code",
      "metadata": {
        "id": "pWnH3BVMKAH4",
        "colab": {
          "base_uri": "https://localhost:8080/",
          "height": 1000
        },
        "outputId": "1cab3fe8-0d68-4848-d3c4-3e0fd42ad1dd"
      },
      "source": [
        "### train with n_epochs=10, n_batch=256\n",
        "\n",
        "keras.backend.clear_session() # Clear cached model\n",
        "### create the discriminator ###\n",
        "d_model = define_discriminator()\n",
        "### create the generator ###\n",
        "g_model = define_generator(latent_dim)\n",
        "### create the gan ###\n",
        "gan_model = define_gan(g_model, d_model)\n",
        "train(g_model, d_model, gan_model, dataset, latent_dim, n_epochs=10, n_batch=256)\n",
        "summarize_performance(g_model, d_model, dataset, latent_dim)\n",
        "\n",
        "### generate points in latent space as input for the generator\n",
        "latent_points = generate_latent_points(100, 25) \n",
        "### generate images\n",
        "X = g_model.predict(latent_points)\n",
        "### create and save a plot of generated images (reversed grayscale)\n",
        "def save_plot(examples, n):\n",
        "  ### plot images\n",
        "  for i in range(n * n):\n",
        "    ### define subplot\n",
        "    pyplot.subplot(n, n, 1 + i)\n",
        "    ### turn off axis\n",
        "    pyplot.axis('off')\n",
        "    ### plot raw pixel data\n",
        "    pyplot.imshow(examples[i, :, :, 0], cmap='gray_r')\n",
        "    pyplot.show()\n",
        " \n",
        "save_plot(X, 5)\n"
      ],
      "execution_count": null,
      "outputs": [
        {
          "output_type": "stream",
          "text": [
            "epoch: 1, iter: 1/234, discriminator loss: 0.683, generator loss: 0.755\n",
            "epoch: 1, iter: 2/234, discriminator loss: 0.671, generator loss: 0.780\n",
            "epoch: 1, iter: 3/234, discriminator loss: 0.665, generator loss: 0.795\n",
            "epoch: 1, iter: 4/234, discriminator loss: 0.657, generator loss: 0.813\n",
            "...\n",
            "epoch: 10, iter: 232/234, discriminator loss: 0.677, generator loss: 0.731\n",
            "epoch: 10, iter: 233/234, discriminator loss: 0.684, generator loss: 0.736\n",
            "epoch: 10, iter: 234/234, discriminator loss: 0.674, generator loss: 0.734\n",
            "Accuracy of real samples: 59%, Accuracy of fake samples: 77%\n"
          ],
          "name": "stdout"
        },
        {
          "output_type": "display_data",
          "data": {
            "image/png": "[encoded data removed]",
            "text/plain": [
              "<Figure size 432x288 with 1 Axes>"
            ]
          },
          "metadata": {
            "tags": [],
            "needs_background": "light"
          }
        },
        {
          "output_type": "display_data",
          "data": {
            "image/png": "[encoded data removed]",
            "text/plain": [
              "<Figure size 432x288 with 1 Axes>"
            ]
          },
          "metadata": {
            "tags": [],
            "needs_background": "light"
          }
        },
        {
          "output_type": "display_data",
          "data": {
            "image/png": "[encoded data removed]",
            "text/plain": [
              "<Figure size 432x288 with 1 Axes>"
            ]
          },
          "metadata": {
            "tags": [],
            "needs_background": "light"
          }
        },
        {
          "output_type": "display_data",
          "data": {
            "image/png": "[encoded data removed]",
            "text/plain": [
              "<Figure size 432x288 with 1 Axes>"
            ]
          },
          "metadata": {
            "tags": [],
            "needs_background": "light"
          }
        },
        {
          "output_type": "display_data",
          "data": {
            "image/png": "[encoded data removed]",
            "text/plain": [
              "<Figure size 432x288 with 1 Axes>"
            ]
          },
          "metadata": {
            "tags": [],
            "needs_background": "light"
          }
        },
        {
          "output_type": "display_data",
          "data": {
            "image/png": "[encoded data removed]",
            "text/plain": [
              "<Figure size 432x288 with 1 Axes>"
            ]
          },
          "metadata": {
            "tags": [],
            "needs_background": "light"
          }
        },
        {
          "output_type": "display_data",
          "data": {
            "image/png": "[encoded data removed]",
            "text/plain": [
              "<Figure size 432x288 with 1 Axes>"
            ]
          },
          "metadata": {
            "tags": [],
            "needs_background": "light"
          }
        },
        {
          "output_type": "display_data",
          "data": {
            "image/png": "[encoded data removed]",
            "text/plain": [
              "<Figure size 432x288 with 1 Axes>"
            ]
          },
          "metadata": {
            "tags": [],
            "needs_background": "light"
          }
        },
        {
          "output_type": "display_data",
          "data": {
            "image/png": "[encoded data removed]",
            "text/plain": [
              "<Figure size 432x288 with 1 Axes>"
            ]
          },
          "metadata": {
            "tags": [],
            "needs_background": "light"
          }
        },
        {
          "output_type": "display_data",
          "data": {
            "image/png": "[encoded data removed]",
            "text/plain": [
              "<Figure size 432x288 with 1 Axes>"
            ]
          },
          "metadata": {
            "tags": [],
            "needs_background": "light"
          }
        },
        {
          "output_type": "display_data",
          "data": {
            "image/png": "[encoded data removed]",
            "text/plain": [
              "<Figure size 432x288 with 1 Axes>"
            ]
          },
          "metadata": {
            "tags": [],
            "needs_background": "light"
          }
        },
        {
          "output_type": "display_data",
          "data": {
            "image/png": "[encoded data removed]",
            "text/plain": [
              "<Figure size 432x288 with 1 Axes>"
            ]
          },
          "metadata": {
            "tags": [],
            "needs_background": "light"
          }
        },
        {
          "output_type": "display_data",
          "data": {
            "image/png": "[encoded data removed]",
            "text/plain": [
              "<Figure size 432x288 with 1 Axes>"
            ]
          },
          "metadata": {
            "tags": [],
            "needs_background": "light"
          }
        },
        {
          "output_type": "display_data",
          "data": {
            "image/png": "[encoded data removed]",
            "text/plain": [
              "<Figure size 432x288 with 1 Axes>"
            ]
          },
          "metadata": {
            "tags": [],
            "needs_background": "light"
          }
        },
        {
          "output_type": "display_data",
          "data": {
            "image/png": "[encoded data removed]",
            "text/plain": [
              "<Figure size 432x288 with 1 Axes>"
            ]
          },
          "metadata": {
            "tags": [],
            "needs_background": "light"
          }
        },
        {
          "output_type": "display_data",
          "data": {
            "image/png": "[encoded data removed]",
            "text/plain": [
              "<Figure size 432x288 with 1 Axes>"
            ]
          },
          "metadata": {
            "tags": [],
            "needs_background": "light"
          }
        },
        {
          "output_type": "display_data",
          "data": {
            "image/png": "[encoded data removed]",
            "text/plain": [
              "<Figure size 432x288 with 1 Axes>"
            ]
          },
          "metadata": {
            "tags": [],
            "needs_background": "light"
          }
        },
        {
          "output_type": "display_data",
          "data": {
            "image/png": "[encoded data removed]",
            "text/plain": [
              "<Figure size 432x288 with 1 Axes>"
            ]
          },
          "metadata": {
            "tags": [],
            "needs_background": "light"
          }
        },
        {
          "output_type": "display_data",
          "data": {
            "image/png": "[encoded data removed]",
            "text/plain": [
              "<Figure size 432x288 with 1 Axes>"
            ]
          },
          "metadata": {
            "tags": [],
            "needs_background": "light"
          }
        },
        {
          "output_type": "display_data",
          "data": {
            "image/png": "[encoded data removed]",
            "text/plain": [
              "<Figure size 432x288 with 1 Axes>"
            ]
          },
          "metadata": {
            "tags": [],
            "needs_background": "light"
          }
        },
        {
          "output_type": "display_data",
          "data": {
            "image/png": "[encoded data removed]",
            "text/plain": [
              "<Figure size 432x288 with 1 Axes>"
            ]
          },
          "metadata": {
            "tags": [],
            "needs_background": "light"
          }
        },
        {
          "output_type": "display_data",
          "data": {
            "image/png": "[encoded data removed]",
            "text/plain": [
              "<Figure size 432x288 with 1 Axes>"
            ]
          },
          "metadata": {
            "tags": [],
            "needs_background": "light"
          }
        },
        {
          "output_type": "display_data",
          "data": {
            "image/png": "[encoded data removed]",
            "text/plain": [
              "<Figure size 432x288 with 1 Axes>"
            ]
          },
          "metadata": {
            "tags": [],
            "needs_background": "light"
          }
        },
        {
          "output_type": "display_data",
          "data": {
            "image/png": "[encoded data removed]",
            "text/plain": [
              "<Figure size 432x288 with 1 Axes>"
            ]
          },
          "metadata": {
            "tags": [],
            "needs_background": "light"
          }
        },
        {
          "output_type": "display_data",
          "data": {
            "image/png": "[encoded data removed]",
            "text/plain": [
              "<Figure size 432x288 with 1 Axes>"
            ]
          },
          "metadata": {
            "tags": [],
            "needs_background": "light"
          }
        }
      ]
    }
  ]
}
